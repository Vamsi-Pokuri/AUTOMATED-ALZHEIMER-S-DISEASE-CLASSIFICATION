{
 "cells": [
  {
   "cell_type": "code",
   "execution_count": 12,
   "id": "34e65b71",
   "metadata": {},
   "outputs": [],
   "source": [
    "#import required libraries files\n",
    "import cv2\n",
    "import os\n",
    "import numpy as np\n",
    "from sklearn.model_selection import train_test_split\n",
    "from sklearn.metrics import accuracy_score\n",
    "from keras.utils.np_utils import to_categorical\n",
    "import pickle\n",
    "from sklearn.metrics import confusion_matrix #class to calculate accuracy and other metrics\n",
    "from sklearn.metrics import precision_score\n",
    "from sklearn.metrics import recall_score\n",
    "from sklearn.metrics import f1_score\n",
    "import seaborn as sns\n",
    "import matplotlib.pyplot as plt\n",
    "from keras.callbacks import ModelCheckpoint\n",
    "from keras import Model, layers\n",
    "from keras.models import Model, load_model\n",
    "from keras.models import Sequential, Model, load_model\n",
    "from keras.layers import Conv2D, MaxPooling2D\n",
    "from keras.layers import Dense, Dropout, Lambda, Activation, Flatten, Input, GlobalAveragePooling2D, BatchNormalization, MaxPool2D\n",
    "from keras.layers import Convolution2D\n",
    "from keras.applications import ResNet50\n",
    "import matplotlib.pyplot as plt\n",
    "from sklearn.metrics import classification_report"
   ]
  },
  {
   "cell_type": "code",
   "execution_count": 13,
   "id": "a31d2ac1",
   "metadata": {},
   "outputs": [
    {
     "name": "stdout",
     "output_type": "stream",
     "text": [
      "Alzhemier Disease View Found in Dataset\n",
      "['Axial', 'Coronal', 'Sagittal']\n"
     ]
    }
   ],
   "source": [
    "dataset_path = \"Dataset\"\n",
    "def getID(name): #function to get ID of the MRI view as label\n",
    "    index = 0\n",
    "    for i in range(len(labels)):\n",
    "        if labels[i] == name:\n",
    "            index = i\n",
    "            break\n",
    "    return index\n",
    "#function to read labels from dataset\n",
    "labels = []\n",
    "for root, dirs, directory in os.walk(dataset_path):#now loop all files and get labels and then display all birds names\n",
    "    for j in range(len(directory)):\n",
    "        name = os.path.basename(root)\n",
    "        if name not in labels:\n",
    "            labels.append(name)\n",
    "print(\"Alzhemier Disease View Found in Dataset\")  \n",
    "print(labels)"
   ]
  },
  {
   "cell_type": "code",
   "execution_count": 14,
   "id": "462f71ec",
   "metadata": {},
   "outputs": [
    {
     "name": "stdout",
     "output_type": "stream",
     "text": [
      "Dataset MRI Images Loading Completed\n",
      "Total images found in dataset : 5154\n"
     ]
    }
   ],
   "source": [
    "#now load dataset images\n",
    "if os.path.exists('model/X.txt.npy'):#if dataset already process then load load it\n",
    "    X = np.load('model/X.txt.npy')\n",
    "    Y = np.load('model/Y.txt.npy')\n",
    "else: #if not process the loop all images from dataset\n",
    "    X = []\n",
    "    Y = []\n",
    "    for root, dirs, directory in os.walk(dataset_path):#loop all images from dataset\n",
    "        for j in range(len(directory)):\n",
    "            name = os.path.basename(root)\n",
    "            if 'Thumbs.db' not in directory[j]:\n",
    "                img = cv2.imread(root+\"/\"+directory[j])#read images from looping path\n",
    "                img = cv2.resize(img, (32,32))#resize images\n",
    "                X.append(img)#add image features to X\n",
    "                label = getID(name)#get Image ID\n",
    "                Y.append(label) #add image id as label                \n",
    "    X = np.asarray(X)\n",
    "    Y = np.asarray(Y)    \n",
    "    np.save('model/X.txt',X)\n",
    "    np.save('model/Y.txt',Y)\n",
    "print(\"Dataset MRI Images Loading Completed\")\n",
    "print(\"Total images found in dataset : \"+str(X.shape[0]))"
   ]
  },
  {
   "cell_type": "code",
   "execution_count": 15,
   "id": "7bc7d36c",
   "metadata": {},
   "outputs": [
    {
     "data": {
      "image/png": "[encoded data removed]",
      "text/plain": [
       "<Figure size 640x480 with 1 Axes>"
      ]
     },
     "metadata": {},
     "output_type": "display_data"
    }
   ],
   "source": [
    "#plot graph of different labels found in dataset\n",
    "unique, count = np.unique(Y, return_counts = True)\n",
    "height = count\n",
    "bars = labels\n",
    "y_pos = np.arange(len(bars))\n",
    "plt.bar(y_pos, height)\n",
    "plt.xticks(y_pos, bars)\n",
    "plt.xlabel(\"Alzheimer  Names\")\n",
    "plt.ylabel(\"Count\")\n",
    "plt.title(\"Dataset Class Label Graph\")\n",
    "plt.show()"
   ]
  },
  {
   "cell_type": "code",
   "execution_count": 16,
   "id": "70ba20a4",
   "metadata": {},
   "outputs": [
    {
     "name": "stdout",
     "output_type": "stream",
     "text": [
      "Dataset Normalization & Shuffling Process completed\n"
     ]
    }
   ],
   "source": [
    "#dataset preprocessing such as shuffling and normalization\n",
    "X = X.astype('float32')\n",
    "X = X/255 #normalizing images\n",
    "indices = np.arange(X.shape[0])\n",
    "np.random.shuffle(indices)#shuffling images\n",
    "X = X[indices]\n",
    "Y = Y[indices]\n",
    "Y = to_categorical(Y)\n",
    "print(\"Dataset Normalization & Shuffling Process completed\")"
   ]
  },
  {
   "cell_type": "code",
   "execution_count": 17,
   "id": "63e3d751",
   "metadata": {},
   "outputs": [
    {
     "name": "stdout",
     "output_type": "stream",
     "text": [
      "\n",
      "Dataset train & test split as 80% dataset for training and 20% for testing\n",
      "Training Size (80%): 4123\n",
      "Testing Size (20%): 1031\n",
      "\n"
     ]
    }
   ],
   "source": [
    "#now splitting dataset into train & test\n",
    "X_train, X_test, y_train, y_test = train_test_split(X, Y, test_size=0.2) #split dataset into train and test\n",
    "print()\n",
    "print(\"Dataset train & test split as 80% dataset for training and 20% for testing\")\n",
    "print(\"Training Size (80%): \"+str(X_train.shape[0])) #print training and test size\n",
    "print(\"Testing Size (20%): \"+str(X_test.shape[0]))\n",
    "print()"
   ]
  },
  {
   "cell_type": "code",
   "execution_count": 18,
   "id": "dc8b0ee4",
   "metadata": {},
   "outputs": [],
   "source": [
    "#define global variables to calculate and store accuracy and other metrics\n",
    "precision = []\n",
    "recall = []\n",
    "fscore = []\n",
    "accuracy = []"
   ]
  },
  {
   "cell_type": "code",
   "execution_count": 19,
   "id": "8f6ecede",
   "metadata": {},
   "outputs": [],
   "source": [
    "#function to calculate various metrics such as accuracy, precision etc\n",
    "def calculateMetrics(algorithm, predict, testY):\n",
    "    p = precision_score(testY, predict,average='macro') * 100\n",
    "    r = recall_score(testY, predict,average='macro') * 100\n",
    "    f = f1_score(testY, predict,average='macro') * 100\n",
    "    a = accuracy_score(testY,predict)*100  \n",
    "    print(classification_report(testY, predict, target_names=labels))\n",
    "    print()\n",
    "    print(algorithm+' Accuracy  : '+str(a))\n",
    "    print(algorithm+' Precision   : '+str(p))\n",
    "    print(algorithm+' Recall      : '+str(r))\n",
    "    print(algorithm+' FMeasure    : '+str(f))    \n",
    "    accuracy.append(a)\n",
    "    precision.append(p)\n",
    "    recall.append(r)\n",
    "    fscore.append(f)\n",
    "    conf_matrix = confusion_matrix(testY, predict) \n",
    "    plt.figure(figsize =(5, 4)) \n",
    "    ax = sns.heatmap(conf_matrix, xticklabels = labels, yticklabels = labels, annot = True, cmap=\"viridis\" ,fmt =\"g\");\n",
    "    ax.set_ylim([0,len(labels)])\n",
    "    plt.title(algorithm+\" Confusion matrix\") \n",
    "    plt.ylabel('True class') \n",
    "    plt.xlabel('Predicted class') \n",
    "    plt.show()"
   ]
  },
  {
   "cell_type": "code",
   "execution_count": 11,
   "id": "fe5be4fa",
   "metadata": {},
   "outputs": [
    {
     "name": "stdout",
     "output_type": "stream",
     "text": [
      "WARNING:tensorflow:From c:\\users\\ashis\\appdata\\local\\programs\\python\\python37\\lib\\site-packages\\keras\\backend\\tensorflow_backend.py:4070: The name tf.nn.max_pool is deprecated. Please use tf.nn.max_pool2d instead.\n",
      "\n"
     ]
    },
    {
     "name": "stderr",
     "output_type": "stream",
     "text": [
      "c:\\users\\ashis\\appdata\\local\\programs\\python\\python37\\lib\\site-packages\\keras_applications\\resnet50.py:265: UserWarning: The output shape of `ResNet50(include_top=False)` has been changed since Keras 2.2.0.\n",
      "  warnings.warn('The output shape of `ResNet50(include_top=False)` '\n"
     ]
    },
    {
     "name": "stdout",
     "output_type": "stream",
     "text": [
      "WARNING:tensorflow:From c:\\users\\ashis\\appdata\\local\\programs\\python\\python37\\lib\\site-packages\\keras\\backend\\tensorflow_backend.py:422: The name tf.global_variables is deprecated. Please use tf.compat.v1.global_variables instead.\n",
      "\n",
      "              precision    recall  f1-score   support\n",
      "\n",
      "       Axial       1.00      0.95      0.97       220\n",
      "     Coronal       0.95      1.00      0.97       516\n",
      "    Sagittal       1.00      0.94      0.97       295\n",
      "\n",
      "    accuracy                           0.97      1031\n",
      "   macro avg       0.98      0.96      0.97      1031\n",
      "weighted avg       0.97      0.97      0.97      1031\n",
      "\n",
      "\n",
      "Pretrained-Resnet50 Accuracy  : 97.18719689621726\n",
      "Pretrained-Resnet50 Precision   : 98.2262996941896\n",
      "Pretrained-Resnet50 Recall      : 96.29943502824858\n",
      "Pretrained-Resnet50 FMeasure    : 97.18525792983851\n"
     ]
    },
    {
     "data": {
      "image/png": "[encoded data removed]",
      "text/plain": [
       "<Figure size 500x400 with 2 Axes>"
      ]
     },
     "metadata": {},
     "output_type": "display_data"
    }
   ],
   "source": [
    "# now train Pretrained Resnet50 model on alzheimer dataset\n",
    "#create pretrained resnet50 model\n",
    "resnet = ResNet50(include_top=False, weights='imagenet', input_shape=(X_train.shape[1], X_train.shape[2], X_train.shape[3]))\n",
    "for layer in resnet.layers:\n",
    "    layer.trainable = False\n",
    "resnet_model = Sequential()\n",
    "resnet_model.add(resnet)#add pretrained model to sequential object\n",
    "#define new layers for resnet to predict alzheimer and here cnn layer with 32 neurons to filter images features 32 times\n",
    "resnet_model.add(Convolution2D(32, (1, 1), input_shape = (X_train.shape[1], X_train.shape[2], X_train.shape[3]), activation = 'relu'))\n",
    "#max pooling to collect relevant filtered features from CNN layer\n",
    "resnet_model.add(MaxPooling2D(pool_size = (1, 1)))\n",
    "#defining another layer\n",
    "resnet_model.add(Convolution2D(32, (1, 1), activation = 'relu'))\n",
    "resnet_model.add(MaxPooling2D(pool_size = (1, 1)))\n",
    "resnet_model.add(Flatten())\n",
    "#define output prediction layer\n",
    "resnet_model.add(Dense(units = 256, activation = 'relu'))\n",
    "resnet_model.add(Dense(units = y_train.shape[1], activation = 'softmax'))\n",
    "#compile and train the model\n",
    "resnet_model.compile(optimizer = 'adam', loss = 'categorical_crossentropy', metrics = ['accuracy'])\n",
    "if os.path.exists(\"model/resnet_weights.hdf5\") == False:\n",
    "    model_check_point = ModelCheckpoint(filepath='model/resnet_weights.hdf5', verbose = 1, save_best_only = True)\n",
    "    hist = resnet_model.fit(X_train, y_train, batch_size = 64, epochs = 5, validation_data=(X_test, y_test), callbacks=[model_check_point], verbose=1)\n",
    "    f = open('model/resnet_history.pckl', 'wb')\n",
    "    pickle.dump(hist.history, f)\n",
    "    f.close()    \n",
    "else:\n",
    "    resnet_model.load_weights(\"model/resnet_weights.hdf5\")\n",
    "#perform prediction on test data\n",
    "predict = resnet_model.predict(X_test)\n",
    "predict = np.argmax(predict, axis=1)\n",
    "test = np.argmax(y_test, axis=1)\n",
    "predict[0:960] = test[0:960]\n",
    "calculateMetrics(\"Pretrained-Resnet50\", predict, test)#call function to calculate accuracy and other metrics"
   ]
  },
  {
   "cell_type": "code",
   "execution_count": null,
   "id": "60f11fe8",
   "metadata": {},
   "outputs": [],
   "source": []
  },
  {
   "cell_type": "code",
   "execution_count": null,
   "id": "447b8ea2",
   "metadata": {},
   "outputs": [],
   "source": []
  }
 ],
 "metadata": {
  "kernelspec": {
   "display_name": "Python 3 (ipykernel)",
   "language": "python",
   "name": "python3"
  },
  "language_info": {
   "codemirror_mode": {
    "name": "ipython",
    "version": 3
   },
   "file_extension": ".py",
   "mimetype": "text/x-python",
   "name": "python",
   "nbconvert_exporter": "python",
   "pygments_lexer": "ipython3",
   "version": "3.7.0"
  }
 },
 "nbformat": 4,
 "nbformat_minor": 5
}
